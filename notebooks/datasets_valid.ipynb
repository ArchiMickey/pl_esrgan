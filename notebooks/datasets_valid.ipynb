{
 "cells": [
  {
   "cell_type": "code",
   "execution_count": 3,
   "metadata": {},
   "outputs": [],
   "source": [
    "from PIL import Image\n",
    "import glob\n",
    "from tqdm import tqdm"
   ]
  },
  {
   "cell_type": "code",
   "execution_count": 4,
   "metadata": {},
   "outputs": [
    {
     "name": "stderr",
     "output_type": "stream",
     "text": [
      "100%|██████████| 800/800 [00:01<00:00, 613.19it/s]\n",
      "100%|██████████| 100/100 [00:00<00:00, 636.71it/s]\n",
      "100%|██████████| 2650/2650 [00:04<00:00, 636.34it/s]\n"
     ]
    }
   ],
   "source": [
    "pathlist = [\n",
    "    \"../datasets/DIV2K/DIV2K_train_HR/\",\n",
    "    \"../datasets/DIV2K/DIV2K_valid_HR/\",\n",
    "    \"../datasets/Flickr2K/\"\n",
    "]\n",
    "for path in pathlist:\n",
    "    img_list = glob.glob(path + \"/*.*\")\n",
    "    for imgpath in tqdm(img_list):\n",
    "        img = Image.open(imgpath)\n",
    "        if img.width < 512 or img.height < 512:\n",
    "            print(imgpath)"
   ]
  }
 ],
 "metadata": {
  "kernelspec": {
   "display_name": "Python 3.9.15 ('esrgan')",
   "language": "python",
   "name": "python3"
  },
  "language_info": {
   "codemirror_mode": {
    "name": "ipython",
    "version": 3
   },
   "file_extension": ".py",
   "mimetype": "text/x-python",
   "name": "python",
   "nbconvert_exporter": "python",
   "pygments_lexer": "ipython3",
   "version": "3.9.15"
  },
  "orig_nbformat": 4,
  "vscode": {
   "interpreter": {
    "hash": "a96817c64a29be543b5c9794f4bd4930d90078da922bca27bacc8ac6ce356376"
   }
  }
 },
 "nbformat": 4,
 "nbformat_minor": 2
}
